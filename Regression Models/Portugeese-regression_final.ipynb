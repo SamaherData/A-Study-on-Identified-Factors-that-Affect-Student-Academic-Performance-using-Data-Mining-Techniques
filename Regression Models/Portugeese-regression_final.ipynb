{
 "cells": [
  {
   "cell_type": "markdown",
   "metadata": {},
   "source": [
    "# References:\n",
    "- Qin, H., 2015. Cross-validation: evaluating estimator performance. [Online] Available at: https://github.com/qinhanmin2014 [Accessed 10 20 2019].\n",
    "\n",
    "- developers, 2019. scikit-learn user guide. [Online] Available at: https://scikit-learn.org/stable/_downloads/scikit-learn-docs.pdf [Accessed 11 3 2019].\n",
    "- wild, m., 2017. Does Python have a package for AIC/BIC. [Online] Available at: https://www.reddit.com/user/manofthewild07 [Accessed 12 2 2019].\n",
    "\n",
    "- Qin, H., 2018. sklearn.metrics.mean_squared_error. [Online] \n",
    "Available at: https://github.com/scikit-learn/scikit-learn/blob/7b136e9/sklearn/metrics/regression.py#L184 [Accessed 10 2 2019].\n",
    "\n"
   ]
  },
  {
   "cell_type": "code",
   "execution_count": 20,
   "metadata": {
    "collapsed": true
   },
   "outputs": [],
   "source": [
    "import pandas as pd\n",
    "import numpy as np\n",
    "import matplotlib.pyplot as plt\n",
    "from sklearn.model_selection import train_test_split\n",
    "from sklearn.tree import DecisionTreeClassifier, DecisionTreeRegressor\n",
    "from sklearn import tree\n",
    "from sklearn.metrics import *\n",
    "from sklearn import linear_model, decomposition, datasets\n",
    "from sklearn.metrics import *\n",
    "from sklearn.svm import SVR, SVC\n",
    "from sklearn.naive_bayes import GaussianNB,MultinomialNB\n",
    "from sklearn.neighbors import KNeighborsClassifier,KNeighborsRegressor\n",
    "from sklearn.linear_model import LogisticRegression\n",
    "from sklearn.ensemble import RandomForestClassifier, RandomForestRegressor\n",
    "import warnings\n",
    "from sklearn.pipeline import make_pipeline\n",
    "warnings.filterwarnings('ignore')\n",
    "from sklearn.preprocessing import StandardScaler\n",
    "from sklearn.model_selection import cross_val_score\n",
    "%matplotlib inline\n",
    "from sklearn.model_selection import KFold\n",
    "from sklearn.model_selection import cross_val_score\n",
    "from sklearn.model_selection import cross_val_predict\n",
    "from sklearn.linear_model import LinearRegression\n",
    "from sklearn.neural_network import MLPRegressor\n",
    "from sklearn.model_selection import KFold , RandomizedSearchCV\n",
    "from sklearn.model_selection import KFold , RandomizedSearchCV\n",
    "from sklearn import model_selection\n",
    "import xgboost as xgb\n",
    "from sklearn import metrics\n",
    "from sklearn.metrics import mean_squared_error\n",
    "import math"
   ]
  },
  {
   "cell_type": "code",
   "execution_count": 21,
   "metadata": {
    "collapsed": true
   },
   "outputs": [],
   "source": [
    "por = pd.read_csv(\"C:/Users/test/Desktop/data/student-por.csv\",delimiter=';')"
   ]
  },
  {
   "cell_type": "code",
   "execution_count": 22,
   "metadata": {
    "collapsed": true
   },
   "outputs": [],
   "source": [
    "cat_vars= por.select_dtypes(include=['object']).columns.to_list()\n",
    "dummies_data = pd.DataFrame(por,copy=True)\n",
    "for var in cat_vars:\n",
    "    cat_list='var'+'_'+var\n",
    "    cat_list = pd.get_dummies(dummies_data[var], prefix=var, drop_first=True)\n",
    "    data1=dummies_data.join(cat_list)\n",
    "    dummies_data=data1\n",
    "    \n",
    "data_vars=dummies_data.columns.values.tolist()\n",
    "to_keep=[i for i in data_vars if i not in cat_vars]\n",
    "\n",
    "dummies_data_final=dummies_data[to_keep]"
   ]
  },
  {
   "cell_type": "code",
   "execution_count": 23,
   "metadata": {
    "collapsed": true
   },
   "outputs": [],
   "source": [
    "\n",
    "V=dummies_data_final['G1'].median()\n",
    "S=dummies_data_final['G2'].median()\n",
    "R=dummies_data_final['G3'].median()\n",
    "dummies_data_final['G2']=dummies_data_final['G2'].replace(0, S)\n",
    "dummies_data_final['G3']=dummies_data_final['G3'].replace(0, R)\n",
    "dummies_data_final['G1']=dummies_data_final['G1'].replace(0, V)"
   ]
  },
  {
   "cell_type": "code",
   "execution_count": 24,
   "metadata": {},
   "outputs": [
    {
     "data": {
      "text/plain": [
       "age                  649\n",
       "Medu                 649\n",
       "Fedu                 649\n",
       "traveltime           649\n",
       "studytime            649\n",
       "failures             649\n",
       "famrel               649\n",
       "freetime             649\n",
       "goout                649\n",
       "Dalc                 649\n",
       "Walc                 649\n",
       "health               649\n",
       "absences             649\n",
       "G1                   649\n",
       "G2                   649\n",
       "G3                   649\n",
       "school_MS            649\n",
       "sex_M                649\n",
       "address_U            649\n",
       "famsize_LE3          649\n",
       "Pstatus_T            649\n",
       "Mjob_health          649\n",
       "Mjob_other           649\n",
       "Mjob_services        649\n",
       "Mjob_teacher         649\n",
       "Fjob_health          649\n",
       "Fjob_other           649\n",
       "Fjob_services        649\n",
       "Fjob_teacher         649\n",
       "reason_home          649\n",
       "reason_other         649\n",
       "reason_reputation    649\n",
       "guardian_mother      649\n",
       "guardian_other       649\n",
       "schoolsup_yes        649\n",
       "famsup_yes           649\n",
       "paid_yes             649\n",
       "activities_yes       649\n",
       "nursery_yes          649\n",
       "higher_yes           649\n",
       "internet_yes         649\n",
       "romantic_yes         649\n",
       "dtype: int64"
      ]
     },
     "execution_count": 24,
     "metadata": {},
     "output_type": "execute_result"
    }
   ],
   "source": [
    "dummies_data_final.count()"
   ]
  },
  {
   "cell_type": "code",
   "execution_count": 25,
   "metadata": {},
   "outputs": [
    {
     "data": {
      "text/html": [
       "<div>\n",
       "<style scoped>\n",
       "    .dataframe tbody tr th:only-of-type {\n",
       "        vertical-align: middle;\n",
       "    }\n",
       "\n",
       "    .dataframe tbody tr th {\n",
       "        vertical-align: top;\n",
       "    }\n",
       "\n",
       "    .dataframe thead th {\n",
       "        text-align: right;\n",
       "    }\n",
       "</style>\n",
       "<table border=\"1\" class=\"dataframe\">\n",
       "  <thead>\n",
       "    <tr style=\"text-align: right;\">\n",
       "      <th></th>\n",
       "      <th>age</th>\n",
       "      <th>Medu</th>\n",
       "      <th>Fedu</th>\n",
       "      <th>traveltime</th>\n",
       "      <th>studytime</th>\n",
       "      <th>failures</th>\n",
       "      <th>famrel</th>\n",
       "      <th>freetime</th>\n",
       "      <th>goout</th>\n",
       "      <th>Dalc</th>\n",
       "      <th>...</th>\n",
       "      <th>guardian_mother</th>\n",
       "      <th>guardian_other</th>\n",
       "      <th>schoolsup_yes</th>\n",
       "      <th>famsup_yes</th>\n",
       "      <th>paid_yes</th>\n",
       "      <th>activities_yes</th>\n",
       "      <th>nursery_yes</th>\n",
       "      <th>higher_yes</th>\n",
       "      <th>internet_yes</th>\n",
       "      <th>romantic_yes</th>\n",
       "    </tr>\n",
       "  </thead>\n",
       "  <tbody>\n",
       "    <tr>\n",
       "      <th>0</th>\n",
       "      <td>18</td>\n",
       "      <td>4</td>\n",
       "      <td>4</td>\n",
       "      <td>2</td>\n",
       "      <td>2</td>\n",
       "      <td>0</td>\n",
       "      <td>4</td>\n",
       "      <td>3</td>\n",
       "      <td>4</td>\n",
       "      <td>1</td>\n",
       "      <td>...</td>\n",
       "      <td>1</td>\n",
       "      <td>0</td>\n",
       "      <td>1</td>\n",
       "      <td>0</td>\n",
       "      <td>0</td>\n",
       "      <td>0</td>\n",
       "      <td>1</td>\n",
       "      <td>1</td>\n",
       "      <td>0</td>\n",
       "      <td>0</td>\n",
       "    </tr>\n",
       "    <tr>\n",
       "      <th>1</th>\n",
       "      <td>17</td>\n",
       "      <td>1</td>\n",
       "      <td>1</td>\n",
       "      <td>1</td>\n",
       "      <td>2</td>\n",
       "      <td>0</td>\n",
       "      <td>5</td>\n",
       "      <td>3</td>\n",
       "      <td>3</td>\n",
       "      <td>1</td>\n",
       "      <td>...</td>\n",
       "      <td>0</td>\n",
       "      <td>0</td>\n",
       "      <td>0</td>\n",
       "      <td>1</td>\n",
       "      <td>0</td>\n",
       "      <td>0</td>\n",
       "      <td>0</td>\n",
       "      <td>1</td>\n",
       "      <td>1</td>\n",
       "      <td>0</td>\n",
       "    </tr>\n",
       "    <tr>\n",
       "      <th>2</th>\n",
       "      <td>15</td>\n",
       "      <td>1</td>\n",
       "      <td>1</td>\n",
       "      <td>1</td>\n",
       "      <td>2</td>\n",
       "      <td>0</td>\n",
       "      <td>4</td>\n",
       "      <td>3</td>\n",
       "      <td>2</td>\n",
       "      <td>2</td>\n",
       "      <td>...</td>\n",
       "      <td>1</td>\n",
       "      <td>0</td>\n",
       "      <td>1</td>\n",
       "      <td>0</td>\n",
       "      <td>0</td>\n",
       "      <td>0</td>\n",
       "      <td>1</td>\n",
       "      <td>1</td>\n",
       "      <td>1</td>\n",
       "      <td>0</td>\n",
       "    </tr>\n",
       "    <tr>\n",
       "      <th>3</th>\n",
       "      <td>15</td>\n",
       "      <td>4</td>\n",
       "      <td>2</td>\n",
       "      <td>1</td>\n",
       "      <td>3</td>\n",
       "      <td>0</td>\n",
       "      <td>3</td>\n",
       "      <td>2</td>\n",
       "      <td>2</td>\n",
       "      <td>1</td>\n",
       "      <td>...</td>\n",
       "      <td>1</td>\n",
       "      <td>0</td>\n",
       "      <td>0</td>\n",
       "      <td>1</td>\n",
       "      <td>0</td>\n",
       "      <td>1</td>\n",
       "      <td>1</td>\n",
       "      <td>1</td>\n",
       "      <td>1</td>\n",
       "      <td>1</td>\n",
       "    </tr>\n",
       "    <tr>\n",
       "      <th>4</th>\n",
       "      <td>16</td>\n",
       "      <td>3</td>\n",
       "      <td>3</td>\n",
       "      <td>1</td>\n",
       "      <td>2</td>\n",
       "      <td>0</td>\n",
       "      <td>4</td>\n",
       "      <td>3</td>\n",
       "      <td>2</td>\n",
       "      <td>1</td>\n",
       "      <td>...</td>\n",
       "      <td>0</td>\n",
       "      <td>0</td>\n",
       "      <td>0</td>\n",
       "      <td>1</td>\n",
       "      <td>0</td>\n",
       "      <td>0</td>\n",
       "      <td>1</td>\n",
       "      <td>1</td>\n",
       "      <td>0</td>\n",
       "      <td>0</td>\n",
       "    </tr>\n",
       "  </tbody>\n",
       "</table>\n",
       "<p>5 rows × 42 columns</p>\n",
       "</div>"
      ],
      "text/plain": [
       "   age  Medu  Fedu  traveltime  studytime  failures  famrel  freetime  goout  \\\n",
       "0   18     4     4           2          2         0       4         3      4   \n",
       "1   17     1     1           1          2         0       5         3      3   \n",
       "2   15     1     1           1          2         0       4         3      2   \n",
       "3   15     4     2           1          3         0       3         2      2   \n",
       "4   16     3     3           1          2         0       4         3      2   \n",
       "\n",
       "   Dalc  ...  guardian_mother  guardian_other  schoolsup_yes  famsup_yes  \\\n",
       "0     1  ...                1               0              1           0   \n",
       "1     1  ...                0               0              0           1   \n",
       "2     2  ...                1               0              1           0   \n",
       "3     1  ...                1               0              0           1   \n",
       "4     1  ...                0               0              0           1   \n",
       "\n",
       "   paid_yes  activities_yes  nursery_yes  higher_yes  internet_yes  \\\n",
       "0         0               0            1           1             0   \n",
       "1         0               0            0           1             1   \n",
       "2         0               0            1           1             1   \n",
       "3         0               1            1           1             1   \n",
       "4         0               0            1           1             0   \n",
       "\n",
       "   romantic_yes  \n",
       "0             0  \n",
       "1             0  \n",
       "2             0  \n",
       "3             1  \n",
       "4             0  \n",
       "\n",
       "[5 rows x 42 columns]"
      ]
     },
     "execution_count": 25,
     "metadata": {},
     "output_type": "execute_result"
    }
   ],
   "source": [
    "dummies_data_final.head()"
   ]
  },
  {
   "cell_type": "code",
   "execution_count": 26,
   "metadata": {
    "collapsed": true
   },
   "outputs": [],
   "source": [
    "x = dummies_data_final.loc[:, dummies_data_final.columns != 'G3']\n",
    "y = dummies_data_final['G3']"
   ]
  },
  {
   "cell_type": "markdown",
   "metadata": {},
   "source": [
    "Decision Tree Regression"
   ]
  },
  {
   "cell_type": "code",
   "execution_count": 27,
   "metadata": {},
   "outputs": [
    {
     "name": "stdout",
     "output_type": "stream",
     "text": [
      "BIC = 762.9870462110455\n",
      "AIC = 69.53597933667048\n",
      "RDDT:  0.6985075980490951\n",
      "RMSE  1.459784478678638\n"
     ]
    }
   ],
   "source": [
    "\n",
    "DT = DecisionTreeRegressor()\n",
    "\n",
    "\n",
    "predictions_DDT = cross_val_predict(DT, x, y, cv=10)\n",
    "resid = y - predictions_DDT\n",
    "SSE = sum(resid**2)\n",
    "AIC = 2*42  - 2*np.log(SSE)\n",
    "BIC = 649 * np.log(SSE/649) + 42 * np.log(649)\n",
    "\n",
    "#(wild, 2017)\n",
    "\n",
    "print('BIC =',BIC)\n",
    "print('AIC =',AIC)\n",
    "#(Qin, 2015)\n",
    "\n",
    "R_DDT = metrics.r2_score(y, predictions_DDT)\n",
    "print('RDDT: ', R_DDT)\n",
    "\n",
    "\n",
    "rmse_DDT = math.sqrt(mean_squared_error(y, predictions_DDT))\n",
    "print('RMSE ', rmse_DDT)\n"
   ]
  },
  {
   "cell_type": "markdown",
   "metadata": {},
   "source": [
    "XGB Regression"
   ]
  },
  {
   "cell_type": "code",
   "execution_count": 28,
   "metadata": {},
   "outputs": [
    {
     "name": "stdout",
     "output_type": "stream",
     "text": [
      "BIC = 350.53673028405814\n",
      "AIC = 70.80701266772438\n",
      "RDXGB:  0.8403110038650683\n",
      "rmse  1.0623999734153837\n"
     ]
    }
   ],
   "source": [
    "import xgboost as xgb\n",
    "\n",
    "\n",
    "xgb = xgb.XGBRegressor()\n",
    "\n",
    "\n",
    "predictions_xgb = cross_val_predict(xgb, x, y, cv=10)\n",
    "resid = y - predictions_xgb\n",
    "SSE = sum(resid**2)\n",
    "AIC = 2*42  - 2*np.log(SSE)\n",
    "BIC = 649 * np.log(SSE/649) + 42 * np.log(649)\n",
    "\n",
    "\n",
    "print('BIC =',BIC)\n",
    "print('AIC =',AIC)\n",
    "\n",
    "R_xgb = metrics.r2_score(y, predictions_xgb)\n",
    "print('RDXGB: ', R_xgb)\n",
    "\n",
    "#(Qin, 2018)\n",
    "\n",
    "rmse_xgb = math.sqrt(mean_squared_error(y, predictions_xgb))\n",
    "print('rmse ', rmse_xgb)\n"
   ]
  },
  {
   "cell_type": "markdown",
   "metadata": {},
   "source": [
    "Random Forest Regression"
   ]
  },
  {
   "cell_type": "code",
   "execution_count": 29,
   "metadata": {},
   "outputs": [
    {
     "name": "stdout",
     "output_type": "stream",
     "text": [
      "BIC = 464.43568631193807\n",
      "AIC = 70.45601434406373\n",
      "RRF:  0.8096761088046005\n",
      "rmse  1.1598376699552182\n"
     ]
    }
   ],
   "source": [
    "\n",
    "RF = RandomForestRegressor()\n",
    "\n",
    "predictions_rf = cross_val_predict(RF, x, y, cv=10)\n",
    "resid = y - predictions_rf\n",
    "SSE = sum(resid**2)\n",
    "AIC = 2*42  - 2*np.log(SSE)\n",
    "BIC = 649 * np.log(SSE/649) + 42 * np.log(649)\n",
    "\n",
    "\n",
    "print('BIC =',BIC)\n",
    "print('AIC =',AIC)\n",
    "\n",
    "R_rf = metrics.r2_score(y, predictions_rf)\n",
    "print('RRF: ', R_rf)\n",
    "\n",
    "\n",
    "rmse_rf = math.sqrt(mean_squared_error(y, predictions_rf))\n",
    "print('rmse ', rmse_rf)\n"
   ]
  },
  {
   "cell_type": "markdown",
   "metadata": {},
   "source": [
    "SVR Regression"
   ]
  },
  {
   "cell_type": "code",
   "execution_count": 30,
   "metadata": {},
   "outputs": [
    {
     "name": "stdout",
     "output_type": "stream",
     "text": [
      "RGNB:  0.8065967918498007\n",
      "BIC = 474.85204526698\n",
      "AIC = 70.42391462463371\n"
     ]
    }
   ],
   "source": [
    "SVR = SVR()\n",
    "predictions = cross_val_predict(SVR, x, y, cv=10)\n",
    "resid = y - predictions\n",
    "SSE = sum(resid**2)\n",
    "AIC = 2*42  - 2*np.log(SSE)\n",
    "BIC = 649 * np.log(SSE/649) + 42 * np.log(649)\n",
    "\n",
    "\n",
    "R_SVR = metrics.r2_score(y, predictions)\n",
    "print('RSVR: ', R_SVR)\n",
    "\n",
    "\n",
    "print('BIC =',BIC)\n",
    "print('AIC =',AIC)"
   ]
  },
  {
   "cell_type": "code",
   "execution_count": 13,
   "metadata": {},
   "outputs": [
    {
     "name": "stdout",
     "output_type": "stream",
     "text": [
      "1.1691827324869755\n"
     ]
    }
   ],
   "source": [
    "rmse = math.sqrt(mean_squared_error(y, predictions))\n",
    "print(rmse)"
   ]
  },
  {
   "cell_type": "markdown",
   "metadata": {},
   "source": [
    "Gaussian Naive Bayes"
   ]
  },
  {
   "cell_type": "code",
   "execution_count": 18,
   "metadata": {},
   "outputs": [
    {
     "name": "stdout",
     "output_type": "stream",
     "text": [
      "BIC = 1809.4801974414024\n",
      "AIC = 66.31103896307924\n",
      "RGNB:  -0.5120399854891369\n",
      "RMSE  3.2691300209674674\n"
     ]
    }
   ],
   "source": [
    "GNB = GaussianNB()\n",
    "predictions_GNB = cross_val_predict(GNB, x, y, cv=10)\n",
    "resid = y - predictions_GNB\n",
    "SSE = sum(resid**2)\n",
    "AIC = 2*42  - 2*np.log(SSE)\n",
    "BIC = 649 * np.log(SSE/649) + 42 * np.log(649)\n",
    "\n",
    "\n",
    "print('BIC =',BIC)\n",
    "print('AIC =',AIC)\n",
    "\n",
    "R_GNB = metrics.r2_score(y, predictions_GNB)\n",
    "print('RGNB: ', R_GNB)\n",
    "\n",
    "\n",
    "rmse_GNB = math.sqrt(mean_squared_error(y, predictions_GNB))\n",
    "print('RMSE ', rmse_GNB)"
   ]
  },
  {
   "cell_type": "code",
   "execution_count": null,
   "metadata": {
    "collapsed": true
   },
   "outputs": [],
   "source": []
  },
  {
   "cell_type": "code",
   "execution_count": null,
   "metadata": {
    "collapsed": true
   },
   "outputs": [],
   "source": []
  }
 ],
 "metadata": {
  "kernelspec": {
   "display_name": "Python 3",
   "language": "python",
   "name": "python3"
  },
  "language_info": {
   "codemirror_mode": {
    "name": "ipython",
    "version": 3
   },
   "file_extension": ".py",
   "mimetype": "text/x-python",
   "name": "python",
   "nbconvert_exporter": "python",
   "pygments_lexer": "ipython3",
   "version": "3.6.1"
  }
 },
 "nbformat": 4,
 "nbformat_minor": 2
}
